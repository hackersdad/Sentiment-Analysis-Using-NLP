{
 "cells": [
  {
   "cell_type": "code",
   "execution_count": 1,
   "metadata": {},
   "outputs": [
    {
     "name": "stderr",
     "output_type": "stream",
     "text": [
      "Using TensorFlow backend.\n"
     ]
    }
   ],
   "source": [
    "# DataFrame\n",
    "import pandas as pd\n",
    "\n",
    "# Matplot\n",
    "import matplotlib.pyplot as plt\n",
    "%matplotlib inline\n",
    "\n",
    "# Scikit-learn\n",
    "from sklearn.model_selection import train_test_split\n",
    "from sklearn.preprocessing import LabelEncoder\n",
    "from sklearn.metrics import confusion_matrix, classification_report, accuracy_score\n",
    "from sklearn.manifold import TSNE\n",
    "from sklearn.feature_extraction.text import TfidfVectorizer\n",
    "\n",
    "# Keras\n",
    "from keras.preprocessing.text import Tokenizer\n",
    "from keras.preprocessing.sequence import pad_sequences\n",
    "from keras.models import Sequential\n",
    "from keras.layers import Activation, Dense, Dropout, Embedding, Flatten, Conv1D, MaxPooling1D, LSTM\n",
    "from keras import utils\n",
    "from keras.callbacks import ReduceLROnPlateau, EarlyStopping\n",
    "\n",
    "# nltk\n",
    "import nltk\n",
    "from nltk.corpus import stopwords\n",
    "from  nltk.stem import SnowballStemmer\n",
    "\n",
    "# Word2vec\n",
    "import gensim\n",
    "\n",
    "# Utility\n",
    "import re\n",
    "import numpy as np\n",
    "import os\n",
    "from collections import Counter\n",
    "import logging\n",
    "import time\n",
    "import pickle\n",
    "import itertools\n",
    "\n",
    "# Set log\n",
    "logging.basicConfig(format='%(asctime)s : %(levelname)s : %(message)s', level=logging.INFO)\n"
   ]
  },
  {
   "cell_type": "code",
   "execution_count": 2,
   "metadata": {},
   "outputs": [],
   "source": [
    "data = pd.read_csv(r'C:\\Users\\user\\Downloads\\tweets-sentiment-analysis\\data.csv',encoding = \"ISO-8859-1\")\n",
    "# Keeping only the neccessary columns\n",
    "data = data[['Text','Sentiment']]"
   ]
  },
  {
   "cell_type": "code",
   "execution_count": 3,
   "metadata": {},
   "outputs": [],
   "source": [
    "TRAIN_SIZE = 0.8\n",
    "\n",
    "# TEXT CLENAING\n",
    "TEXT_CLEANING_RE = \"@\\S+|https?:\\S+|http?:\\S|[^A-Za-z0-9]+\"\n",
    "\n",
    "# WORD2VEC \n",
    "W2V_SIZE = 300\n",
    "W2V_WINDOW = 7\n",
    "W2V_EPOCH = 32\n",
    "W2V_MIN_COUNT = 10\n",
    "\n",
    "# KERAS\n",
    "SEQUENCE_LENGTH = 300\n",
    "EPOCHS = 11\n",
    "BATCH_SIZE = 40\n",
    "\n",
    "# SENTIMENT\n",
    "POSITIVE = \"POSITIVE\"\n",
    "NEGATIVE = \"NEGATIVE\"\n",
    "SENTIMENT_THRESHOLDS = (0.4, 0.7)\n",
    "\n",
    "# EXPORT\n",
    "KERAS_MODEL = \"model.h5\"\n",
    "WORD2VEC_MODEL = \"model.w2v\"\n",
    "TOKENIZER_MODEL = \"tokenizer.pkl\"\n",
    "ENCODER_MODEL = \"encoder.pkl\"\n"
   ]
  },
  {
   "cell_type": "code",
   "execution_count": 4,
   "metadata": {},
   "outputs": [],
   "source": [
    "decode_map = {0: \"NEGATIVE\", 1: \"POSITIVE\"}\n",
    "def decode_sentiment(label):\n",
    "    return decode_map[int(label)]"
   ]
  },
  {
   "cell_type": "code",
   "execution_count": 5,
   "metadata": {},
   "outputs": [
    {
     "name": "stdout",
     "output_type": "stream",
     "text": [
      "Wall time: 109 ms\n"
     ]
    }
   ],
   "source": [
    "%%time\n",
    "data.Sentiment = data.Sentiment.apply(lambda x: decode_sentiment(x))"
   ]
  },
  {
   "cell_type": "code",
   "execution_count": 6,
   "metadata": {},
   "outputs": [],
   "source": [
    "stop_words = stopwords.words(\"english\")\n",
    "stemmer = SnowballStemmer(\"english\")"
   ]
  },
  {
   "cell_type": "code",
   "execution_count": 7,
   "metadata": {},
   "outputs": [],
   "source": [
    "def preprocess(text, stem=False):\n",
    "    # Remove link,user and special characters\n",
    "    text = re.sub(TEXT_CLEANING_RE, ' ', str(text).lower()).strip()\n",
    "    tokens = []\n",
    "    for token in text.split():\n",
    "        if token not in stop_words:\n",
    "            if stem:\n",
    "                tokens.append(stemmer.stem(token))\n",
    "            else:\n",
    "                tokens.append(token)\n",
    "    return \" \".join(tokens)"
   ]
  },
  {
   "cell_type": "code",
   "execution_count": 8,
   "metadata": {},
   "outputs": [
    {
     "name": "stdout",
     "output_type": "stream",
     "text": [
      "Wall time: 1.12 s\n"
     ]
    }
   ],
   "source": [
    "%%time\n",
    "data.Text = data.Text.apply(lambda x: preprocess(x))"
   ]
  },
  {
   "cell_type": "code",
   "execution_count": 9,
   "metadata": {},
   "outputs": [
    {
     "name": "stdout",
     "output_type": "stream",
     "text": [
      "TRAIN size: 22408\n",
      "TEST size: 5602\n"
     ]
    }
   ],
   "source": [
    "data_train, data_test = train_test_split(data, test_size=1-TRAIN_SIZE, random_state=42)\n",
    "print(\"TRAIN size:\", len(data_train))\n",
    "print(\"TEST size:\", len(data_test))\n"
   ]
  },
  {
   "cell_type": "code",
   "execution_count": 10,
   "metadata": {},
   "outputs": [
    {
     "name": "stdout",
     "output_type": "stream",
     "text": [
      "Wall time: 23.1 ms\n"
     ]
    }
   ],
   "source": [
    "%%time\n",
    "documents = [_text.split() for _text in data_train.Text]"
   ]
  },
  {
   "cell_type": "code",
   "execution_count": 11,
   "metadata": {},
   "outputs": [],
   "source": [
    "w2v_model = gensim.models.word2vec.Word2Vec(size=W2V_SIZE, window=W2V_WINDOW, min_count=W2V_MIN_COUNT,workers=8)"
   ]
  },
  {
   "cell_type": "code",
   "execution_count": 12,
   "metadata": {},
   "outputs": [
    {
     "name": "stderr",
     "output_type": "stream",
     "text": [
      "2019-12-03 01:21:22,911 : INFO : collecting all words and their counts\n",
      "2019-12-03 01:21:22,911 : INFO : PROGRESS: at sentence #0, processed 0 words, keeping 0 word types\n",
      "2019-12-03 01:21:22,970 : INFO : PROGRESS: at sentence #10000, processed 67069 words, keeping 12807 word types\n",
      "2019-12-03 01:21:22,995 : INFO : PROGRESS: at sentence #20000, processed 133318 words, keeping 19655 word types\n",
      "2019-12-03 01:21:23,005 : INFO : collected 21136 word types from a corpus of 149115 raw words and 22408 sentences\n",
      "2019-12-03 01:21:23,007 : INFO : Loading a fresh vocabulary\n",
      "2019-12-03 01:21:23,027 : INFO : effective_min_count=10 retains 1929 unique words (9% of original 21136, drops 19207)\n",
      "2019-12-03 01:21:23,028 : INFO : effective_min_count=10 leaves 113603 word corpus (76% of original 149115, drops 35512)\n",
      "2019-12-03 01:21:23,042 : INFO : deleting the raw counts dictionary of 21136 items\n",
      "2019-12-03 01:21:23,047 : INFO : sample=0.001 downsamples 65 most-common words\n",
      "2019-12-03 01:21:23,050 : INFO : downsampling leaves estimated 99310 word corpus (87.4% of prior 113603)\n",
      "2019-12-03 01:21:23,059 : INFO : estimated required memory for 1929 words and 300 dimensions: 5594100 bytes\n",
      "2019-12-03 01:21:23,064 : INFO : resetting layer weights\n"
     ]
    }
   ],
   "source": [
    "w2v_model.build_vocab(documents)\n"
   ]
  },
  {
   "cell_type": "code",
   "execution_count": 13,
   "metadata": {},
   "outputs": [
    {
     "name": "stdout",
     "output_type": "stream",
     "text": [
      "Vocab size 1929\n"
     ]
    }
   ],
   "source": [
    "words = w2v_model.wv.vocab.keys()\n",
    "vocab_size = len(words)\n",
    "print(\"Vocab size\", vocab_size)"
   ]
  },
  {
   "cell_type": "code",
   "execution_count": 14,
   "metadata": {},
   "outputs": [
    {
     "name": "stderr",
     "output_type": "stream",
     "text": [
      "2019-12-03 01:21:23,243 : INFO : training model with 8 workers on 1929 vocabulary and 300 features, using sg=0 hs=0 sample=0.001 negative=5 window=7\n",
      "2019-12-03 01:21:23,424 : INFO : worker thread finished; awaiting finish of 7 more threads\n",
      "2019-12-03 01:21:23,439 : INFO : worker thread finished; awaiting finish of 6 more threads\n",
      "2019-12-03 01:21:23,472 : INFO : worker thread finished; awaiting finish of 5 more threads\n",
      "2019-12-03 01:21:23,479 : INFO : worker thread finished; awaiting finish of 4 more threads\n",
      "2019-12-03 01:21:23,481 : INFO : worker thread finished; awaiting finish of 3 more threads\n",
      "2019-12-03 01:21:23,488 : INFO : worker thread finished; awaiting finish of 2 more threads\n",
      "2019-12-03 01:21:23,494 : INFO : worker thread finished; awaiting finish of 1 more threads\n",
      "2019-12-03 01:21:23,502 : INFO : worker thread finished; awaiting finish of 0 more threads\n",
      "2019-12-03 01:21:23,505 : INFO : EPOCH - 1 : training on 149115 raw words (99279 effective words) took 0.2s, 436563 effective words/s\n",
      "2019-12-03 01:21:23,642 : INFO : worker thread finished; awaiting finish of 7 more threads\n",
      "2019-12-03 01:21:23,673 : INFO : worker thread finished; awaiting finish of 6 more threads\n",
      "2019-12-03 01:21:23,673 : INFO : worker thread finished; awaiting finish of 5 more threads\n",
      "2019-12-03 01:21:23,673 : INFO : worker thread finished; awaiting finish of 4 more threads\n",
      "2019-12-03 01:21:23,689 : INFO : worker thread finished; awaiting finish of 3 more threads\n",
      "2019-12-03 01:21:23,696 : INFO : worker thread finished; awaiting finish of 2 more threads\n",
      "2019-12-03 01:21:23,700 : INFO : worker thread finished; awaiting finish of 1 more threads\n",
      "2019-12-03 01:21:23,703 : INFO : worker thread finished; awaiting finish of 0 more threads\n",
      "2019-12-03 01:21:23,704 : INFO : EPOCH - 2 : training on 149115 raw words (99072 effective words) took 0.2s, 524134 effective words/s\n",
      "2019-12-03 01:21:23,842 : INFO : worker thread finished; awaiting finish of 7 more threads\n",
      "2019-12-03 01:21:23,874 : INFO : worker thread finished; awaiting finish of 6 more threads\n",
      "2019-12-03 01:21:23,891 : INFO : worker thread finished; awaiting finish of 5 more threads\n",
      "2019-12-03 01:21:23,895 : INFO : worker thread finished; awaiting finish of 4 more threads\n",
      "2019-12-03 01:21:23,897 : INFO : worker thread finished; awaiting finish of 3 more threads\n",
      "2019-12-03 01:21:23,898 : INFO : worker thread finished; awaiting finish of 2 more threads\n",
      "2019-12-03 01:21:23,908 : INFO : worker thread finished; awaiting finish of 1 more threads\n",
      "2019-12-03 01:21:23,925 : INFO : worker thread finished; awaiting finish of 0 more threads\n",
      "2019-12-03 01:21:23,929 : INFO : EPOCH - 3 : training on 149115 raw words (99363 effective words) took 0.2s, 475962 effective words/s\n",
      "2019-12-03 01:21:24,077 : INFO : worker thread finished; awaiting finish of 7 more threads\n",
      "2019-12-03 01:21:24,092 : INFO : worker thread finished; awaiting finish of 6 more threads\n",
      "2019-12-03 01:21:24,110 : INFO : worker thread finished; awaiting finish of 5 more threads\n",
      "2019-12-03 01:21:24,114 : INFO : worker thread finished; awaiting finish of 4 more threads\n",
      "2019-12-03 01:21:24,118 : INFO : worker thread finished; awaiting finish of 3 more threads\n",
      "2019-12-03 01:21:24,122 : INFO : worker thread finished; awaiting finish of 2 more threads\n",
      "2019-12-03 01:21:24,125 : INFO : worker thread finished; awaiting finish of 1 more threads\n",
      "2019-12-03 01:21:24,135 : INFO : worker thread finished; awaiting finish of 0 more threads\n",
      "2019-12-03 01:21:24,136 : INFO : EPOCH - 4 : training on 149115 raw words (99097 effective words) took 0.2s, 526518 effective words/s\n",
      "2019-12-03 01:21:24,315 : INFO : worker thread finished; awaiting finish of 7 more threads\n",
      "2019-12-03 01:21:24,315 : INFO : worker thread finished; awaiting finish of 6 more threads\n",
      "2019-12-03 01:21:24,326 : INFO : worker thread finished; awaiting finish of 5 more threads\n",
      "2019-12-03 01:21:24,339 : INFO : worker thread finished; awaiting finish of 4 more threads\n",
      "2019-12-03 01:21:24,342 : INFO : worker thread finished; awaiting finish of 3 more threads\n",
      "2019-12-03 01:21:24,345 : INFO : worker thread finished; awaiting finish of 2 more threads\n",
      "2019-12-03 01:21:24,359 : INFO : worker thread finished; awaiting finish of 1 more threads\n",
      "2019-12-03 01:21:24,390 : INFO : worker thread finished; awaiting finish of 0 more threads\n",
      "2019-12-03 01:21:24,393 : INFO : EPOCH - 5 : training on 149115 raw words (99285 effective words) took 0.2s, 412137 effective words/s\n",
      "2019-12-03 01:21:24,591 : INFO : worker thread finished; awaiting finish of 7 more threads\n",
      "2019-12-03 01:21:24,623 : INFO : worker thread finished; awaiting finish of 6 more threads\n",
      "2019-12-03 01:21:24,635 : INFO : worker thread finished; awaiting finish of 5 more threads\n",
      "2019-12-03 01:21:24,638 : INFO : worker thread finished; awaiting finish of 4 more threads\n",
      "2019-12-03 01:21:24,639 : INFO : worker thread finished; awaiting finish of 3 more threads\n",
      "2019-12-03 01:21:24,641 : INFO : worker thread finished; awaiting finish of 2 more threads\n",
      "2019-12-03 01:21:24,654 : INFO : worker thread finished; awaiting finish of 1 more threads\n",
      "2019-12-03 01:21:24,657 : INFO : worker thread finished; awaiting finish of 0 more threads\n",
      "2019-12-03 01:21:24,658 : INFO : EPOCH - 6 : training on 149115 raw words (99184 effective words) took 0.2s, 409273 effective words/s\n",
      "2019-12-03 01:21:24,813 : INFO : worker thread finished; awaiting finish of 7 more threads\n",
      "2019-12-03 01:21:24,852 : INFO : worker thread finished; awaiting finish of 6 more threads\n",
      "2019-12-03 01:21:24,870 : INFO : worker thread finished; awaiting finish of 5 more threads\n",
      "2019-12-03 01:21:24,874 : INFO : worker thread finished; awaiting finish of 4 more threads\n",
      "2019-12-03 01:21:24,878 : INFO : worker thread finished; awaiting finish of 3 more threads\n",
      "2019-12-03 01:21:24,881 : INFO : worker thread finished; awaiting finish of 2 more threads\n",
      "2019-12-03 01:21:24,888 : INFO : worker thread finished; awaiting finish of 1 more threads\n",
      "2019-12-03 01:21:24,894 : INFO : worker thread finished; awaiting finish of 0 more threads\n",
      "2019-12-03 01:21:24,896 : INFO : EPOCH - 7 : training on 149115 raw words (99246 effective words) took 0.2s, 455861 effective words/s\n",
      "2019-12-03 01:21:25,043 : INFO : worker thread finished; awaiting finish of 7 more threads\n",
      "2019-12-03 01:21:25,076 : INFO : worker thread finished; awaiting finish of 6 more threads\n",
      "2019-12-03 01:21:25,104 : INFO : worker thread finished; awaiting finish of 5 more threads\n",
      "2019-12-03 01:21:25,110 : INFO : worker thread finished; awaiting finish of 4 more threads\n",
      "2019-12-03 01:21:25,113 : INFO : worker thread finished; awaiting finish of 3 more threads\n",
      "2019-12-03 01:21:25,124 : INFO : worker thread finished; awaiting finish of 2 more threads\n",
      "2019-12-03 01:21:25,129 : INFO : worker thread finished; awaiting finish of 1 more threads\n",
      "2019-12-03 01:21:25,137 : INFO : worker thread finished; awaiting finish of 0 more threads\n",
      "2019-12-03 01:21:25,139 : INFO : EPOCH - 8 : training on 149115 raw words (99228 effective words) took 0.2s, 437387 effective words/s\n",
      "2019-12-03 01:21:25,307 : INFO : worker thread finished; awaiting finish of 7 more threads\n",
      "2019-12-03 01:21:25,326 : INFO : worker thread finished; awaiting finish of 6 more threads\n",
      "2019-12-03 01:21:25,335 : INFO : worker thread finished; awaiting finish of 5 more threads\n",
      "2019-12-03 01:21:25,350 : INFO : worker thread finished; awaiting finish of 4 more threads\n",
      "2019-12-03 01:21:25,354 : INFO : worker thread finished; awaiting finish of 3 more threads\n",
      "2019-12-03 01:21:25,355 : INFO : worker thread finished; awaiting finish of 2 more threads\n",
      "2019-12-03 01:21:25,358 : INFO : worker thread finished; awaiting finish of 1 more threads\n",
      "2019-12-03 01:21:25,366 : INFO : worker thread finished; awaiting finish of 0 more threads\n",
      "2019-12-03 01:21:25,368 : INFO : EPOCH - 9 : training on 149115 raw words (99331 effective words) took 0.2s, 468490 effective words/s\n",
      "2019-12-03 01:21:25,540 : INFO : worker thread finished; awaiting finish of 7 more threads\n",
      "2019-12-03 01:21:25,572 : INFO : worker thread finished; awaiting finish of 6 more threads\n",
      "2019-12-03 01:21:25,587 : INFO : worker thread finished; awaiting finish of 5 more threads\n",
      "2019-12-03 01:21:25,607 : INFO : worker thread finished; awaiting finish of 4 more threads\n"
     ]
    },
    {
     "name": "stderr",
     "output_type": "stream",
     "text": [
      "2019-12-03 01:21:25,618 : INFO : worker thread finished; awaiting finish of 3 more threads\n",
      "2019-12-03 01:21:25,621 : INFO : worker thread finished; awaiting finish of 2 more threads\n",
      "2019-12-03 01:21:25,625 : INFO : worker thread finished; awaiting finish of 1 more threads\n",
      "2019-12-03 01:21:25,643 : INFO : worker thread finished; awaiting finish of 0 more threads\n",
      "2019-12-03 01:21:25,645 : INFO : EPOCH - 10 : training on 149115 raw words (99422 effective words) took 0.3s, 374186 effective words/s\n",
      "2019-12-03 01:21:25,854 : INFO : worker thread finished; awaiting finish of 7 more threads\n",
      "2019-12-03 01:21:25,854 : INFO : worker thread finished; awaiting finish of 6 more threads\n",
      "2019-12-03 01:21:25,873 : INFO : worker thread finished; awaiting finish of 5 more threads\n",
      "2019-12-03 01:21:25,896 : INFO : worker thread finished; awaiting finish of 4 more threads\n",
      "2019-12-03 01:21:25,901 : INFO : worker thread finished; awaiting finish of 3 more threads\n",
      "2019-12-03 01:21:25,904 : INFO : worker thread finished; awaiting finish of 2 more threads\n",
      "2019-12-03 01:21:25,908 : INFO : worker thread finished; awaiting finish of 1 more threads\n",
      "2019-12-03 01:21:25,911 : INFO : worker thread finished; awaiting finish of 0 more threads\n",
      "2019-12-03 01:21:25,913 : INFO : EPOCH - 11 : training on 149115 raw words (99267 effective words) took 0.2s, 405885 effective words/s\n",
      "2019-12-03 01:21:26,076 : INFO : worker thread finished; awaiting finish of 7 more threads\n",
      "2019-12-03 01:21:26,122 : INFO : worker thread finished; awaiting finish of 6 more threads\n",
      "2019-12-03 01:21:26,155 : INFO : worker thread finished; awaiting finish of 5 more threads\n",
      "2019-12-03 01:21:26,158 : INFO : worker thread finished; awaiting finish of 4 more threads\n",
      "2019-12-03 01:21:26,160 : INFO : worker thread finished; awaiting finish of 3 more threads\n",
      "2019-12-03 01:21:26,161 : INFO : worker thread finished; awaiting finish of 2 more threads\n",
      "2019-12-03 01:21:26,166 : INFO : worker thread finished; awaiting finish of 1 more threads\n",
      "2019-12-03 01:21:26,177 : INFO : worker thread finished; awaiting finish of 0 more threads\n",
      "2019-12-03 01:21:26,179 : INFO : EPOCH - 12 : training on 149115 raw words (99283 effective words) took 0.2s, 414747 effective words/s\n",
      "2019-12-03 01:21:26,339 : INFO : worker thread finished; awaiting finish of 7 more threads\n",
      "2019-12-03 01:21:26,384 : INFO : worker thread finished; awaiting finish of 6 more threads\n",
      "2019-12-03 01:21:26,396 : INFO : worker thread finished; awaiting finish of 5 more threads\n",
      "2019-12-03 01:21:26,403 : INFO : worker thread finished; awaiting finish of 4 more threads\n",
      "2019-12-03 01:21:26,414 : INFO : worker thread finished; awaiting finish of 3 more threads\n",
      "2019-12-03 01:21:26,423 : INFO : worker thread finished; awaiting finish of 2 more threads\n",
      "2019-12-03 01:21:26,425 : INFO : worker thread finished; awaiting finish of 1 more threads\n",
      "2019-12-03 01:21:26,426 : INFO : worker thread finished; awaiting finish of 0 more threads\n",
      "2019-12-03 01:21:26,427 : INFO : EPOCH - 13 : training on 149115 raw words (99473 effective words) took 0.2s, 441813 effective words/s\n",
      "2019-12-03 01:21:26,620 : INFO : worker thread finished; awaiting finish of 7 more threads\n",
      "2019-12-03 01:21:26,620 : INFO : worker thread finished; awaiting finish of 6 more threads\n",
      "2019-12-03 01:21:26,635 : INFO : worker thread finished; awaiting finish of 5 more threads\n",
      "2019-12-03 01:21:26,638 : INFO : worker thread finished; awaiting finish of 4 more threads\n",
      "2019-12-03 01:21:26,641 : INFO : worker thread finished; awaiting finish of 3 more threads\n",
      "2019-12-03 01:21:26,650 : INFO : worker thread finished; awaiting finish of 2 more threads\n",
      "2019-12-03 01:21:26,662 : INFO : worker thread finished; awaiting finish of 1 more threads\n",
      "2019-12-03 01:21:26,667 : INFO : worker thread finished; awaiting finish of 0 more threads\n",
      "2019-12-03 01:21:26,669 : INFO : EPOCH - 14 : training on 149115 raw words (99292 effective words) took 0.2s, 439158 effective words/s\n",
      "2019-12-03 01:21:26,839 : INFO : worker thread finished; awaiting finish of 7 more threads\n",
      "2019-12-03 01:21:26,870 : INFO : worker thread finished; awaiting finish of 6 more threads\n",
      "2019-12-03 01:21:26,886 : INFO : worker thread finished; awaiting finish of 5 more threads\n",
      "2019-12-03 01:21:26,897 : INFO : worker thread finished; awaiting finish of 4 more threads\n",
      "2019-12-03 01:21:26,903 : INFO : worker thread finished; awaiting finish of 3 more threads\n",
      "2019-12-03 01:21:26,908 : INFO : worker thread finished; awaiting finish of 2 more threads\n",
      "2019-12-03 01:21:26,911 : INFO : worker thread finished; awaiting finish of 1 more threads\n",
      "2019-12-03 01:21:26,915 : INFO : worker thread finished; awaiting finish of 0 more threads\n",
      "2019-12-03 01:21:26,917 : INFO : EPOCH - 15 : training on 149115 raw words (99132 effective words) took 0.2s, 440566 effective words/s\n",
      "2019-12-03 01:21:27,088 : INFO : worker thread finished; awaiting finish of 7 more threads\n",
      "2019-12-03 01:21:27,104 : INFO : worker thread finished; awaiting finish of 6 more threads\n",
      "2019-12-03 01:21:27,141 : INFO : worker thread finished; awaiting finish of 5 more threads\n",
      "2019-12-03 01:21:27,146 : INFO : worker thread finished; awaiting finish of 4 more threads\n",
      "2019-12-03 01:21:27,152 : INFO : worker thread finished; awaiting finish of 3 more threads\n",
      "2019-12-03 01:21:27,165 : INFO : worker thread finished; awaiting finish of 2 more threads\n",
      "2019-12-03 01:21:27,167 : INFO : worker thread finished; awaiting finish of 1 more threads\n",
      "2019-12-03 01:21:27,172 : INFO : worker thread finished; awaiting finish of 0 more threads\n",
      "2019-12-03 01:21:27,174 : INFO : EPOCH - 16 : training on 149115 raw words (99293 effective words) took 0.2s, 431417 effective words/s\n",
      "2019-12-03 01:21:27,356 : INFO : worker thread finished; awaiting finish of 7 more threads\n",
      "2019-12-03 01:21:27,356 : INFO : worker thread finished; awaiting finish of 6 more threads\n",
      "2019-12-03 01:21:27,386 : INFO : worker thread finished; awaiting finish of 5 more threads\n",
      "2019-12-03 01:21:27,397 : INFO : worker thread finished; awaiting finish of 4 more threads\n",
      "2019-12-03 01:21:27,415 : INFO : worker thread finished; awaiting finish of 3 more threads\n",
      "2019-12-03 01:21:27,424 : INFO : worker thread finished; awaiting finish of 2 more threads\n",
      "2019-12-03 01:21:27,426 : INFO : worker thread finished; awaiting finish of 1 more threads\n",
      "2019-12-03 01:21:27,432 : INFO : worker thread finished; awaiting finish of 0 more threads\n",
      "2019-12-03 01:21:27,434 : INFO : EPOCH - 17 : training on 149115 raw words (99321 effective words) took 0.2s, 423257 effective words/s\n",
      "2019-12-03 01:21:27,605 : INFO : worker thread finished; awaiting finish of 7 more threads\n",
      "2019-12-03 01:21:27,619 : INFO : worker thread finished; awaiting finish of 6 more threads\n",
      "2019-12-03 01:21:27,642 : INFO : worker thread finished; awaiting finish of 5 more threads\n",
      "2019-12-03 01:21:27,657 : INFO : worker thread finished; awaiting finish of 4 more threads\n",
      "2019-12-03 01:21:27,670 : INFO : worker thread finished; awaiting finish of 3 more threads\n",
      "2019-12-03 01:21:27,673 : INFO : worker thread finished; awaiting finish of 2 more threads\n",
      "2019-12-03 01:21:27,677 : INFO : worker thread finished; awaiting finish of 1 more threads\n",
      "2019-12-03 01:21:27,686 : INFO : worker thread finished; awaiting finish of 0 more threads\n",
      "2019-12-03 01:21:27,689 : INFO : EPOCH - 18 : training on 149115 raw words (99314 effective words) took 0.2s, 423862 effective words/s\n",
      "2019-12-03 01:21:27,886 : INFO : worker thread finished; awaiting finish of 7 more threads\n",
      "2019-12-03 01:21:27,917 : INFO : worker thread finished; awaiting finish of 6 more threads\n",
      "2019-12-03 01:21:27,917 : INFO : worker thread finished; awaiting finish of 5 more threads\n",
      "2019-12-03 01:21:27,923 : INFO : worker thread finished; awaiting finish of 4 more threads\n",
      "2019-12-03 01:21:27,927 : INFO : worker thread finished; awaiting finish of 3 more threads\n",
      "2019-12-03 01:21:27,931 : INFO : worker thread finished; awaiting finish of 2 more threads\n",
      "2019-12-03 01:21:27,942 : INFO : worker thread finished; awaiting finish of 1 more threads\n",
      "2019-12-03 01:21:27,953 : INFO : worker thread finished; awaiting finish of 0 more threads\n",
      "2019-12-03 01:21:27,955 : INFO : EPOCH - 19 : training on 149115 raw words (99381 effective words) took 0.2s, 401362 effective words/s\n"
     ]
    },
    {
     "name": "stderr",
     "output_type": "stream",
     "text": [
      "2019-12-03 01:21:28,153 : INFO : worker thread finished; awaiting finish of 7 more threads\n",
      "2019-12-03 01:21:28,180 : INFO : worker thread finished; awaiting finish of 6 more threads\n",
      "2019-12-03 01:21:28,188 : INFO : worker thread finished; awaiting finish of 5 more threads\n",
      "2019-12-03 01:21:28,188 : INFO : worker thread finished; awaiting finish of 4 more threads\n",
      "2019-12-03 01:21:28,195 : INFO : worker thread finished; awaiting finish of 3 more threads\n",
      "2019-12-03 01:21:28,209 : INFO : worker thread finished; awaiting finish of 2 more threads\n",
      "2019-12-03 01:21:28,212 : INFO : worker thread finished; awaiting finish of 1 more threads\n",
      "2019-12-03 01:21:28,214 : INFO : worker thread finished; awaiting finish of 0 more threads\n",
      "2019-12-03 01:21:28,217 : INFO : EPOCH - 20 : training on 149115 raw words (99330 effective words) took 0.2s, 411217 effective words/s\n",
      "2019-12-03 01:21:28,405 : INFO : worker thread finished; awaiting finish of 7 more threads\n",
      "2019-12-03 01:21:28,431 : INFO : worker thread finished; awaiting finish of 6 more threads\n",
      "2019-12-03 01:21:28,462 : INFO : worker thread finished; awaiting finish of 5 more threads\n",
      "2019-12-03 01:21:28,476 : INFO : worker thread finished; awaiting finish of 4 more threads\n",
      "2019-12-03 01:21:28,492 : INFO : worker thread finished; awaiting finish of 3 more threads\n",
      "2019-12-03 01:21:28,497 : INFO : worker thread finished; awaiting finish of 2 more threads\n",
      "2019-12-03 01:21:28,500 : INFO : worker thread finished; awaiting finish of 1 more threads\n",
      "2019-12-03 01:21:28,513 : INFO : worker thread finished; awaiting finish of 0 more threads\n",
      "2019-12-03 01:21:28,516 : INFO : EPOCH - 21 : training on 149115 raw words (99292 effective words) took 0.3s, 356588 effective words/s\n",
      "2019-12-03 01:21:28,767 : INFO : worker thread finished; awaiting finish of 7 more threads\n",
      "2019-12-03 01:21:28,783 : INFO : worker thread finished; awaiting finish of 6 more threads\n",
      "2019-12-03 01:21:28,786 : INFO : worker thread finished; awaiting finish of 5 more threads\n",
      "2019-12-03 01:21:28,795 : INFO : worker thread finished; awaiting finish of 4 more threads\n",
      "2019-12-03 01:21:28,801 : INFO : worker thread finished; awaiting finish of 3 more threads\n",
      "2019-12-03 01:21:28,804 : INFO : worker thread finished; awaiting finish of 2 more threads\n",
      "2019-12-03 01:21:28,813 : INFO : worker thread finished; awaiting finish of 1 more threads\n",
      "2019-12-03 01:21:28,821 : INFO : worker thread finished; awaiting finish of 0 more threads\n",
      "2019-12-03 01:21:28,823 : INFO : EPOCH - 22 : training on 149115 raw words (99399 effective words) took 0.3s, 350111 effective words/s\n",
      "2019-12-03 01:21:29,036 : INFO : worker thread finished; awaiting finish of 7 more threads\n",
      "2019-12-03 01:21:29,058 : INFO : worker thread finished; awaiting finish of 6 more threads\n",
      "2019-12-03 01:21:29,075 : INFO : worker thread finished; awaiting finish of 5 more threads\n",
      "2019-12-03 01:21:29,094 : INFO : worker thread finished; awaiting finish of 4 more threads\n",
      "2019-12-03 01:21:29,096 : INFO : worker thread finished; awaiting finish of 3 more threads\n",
      "2019-12-03 01:21:29,097 : INFO : worker thread finished; awaiting finish of 2 more threads\n",
      "2019-12-03 01:21:29,102 : INFO : worker thread finished; awaiting finish of 1 more threads\n",
      "2019-12-03 01:21:29,112 : INFO : worker thread finished; awaiting finish of 0 more threads\n",
      "2019-12-03 01:21:29,114 : INFO : EPOCH - 23 : training on 149115 raw words (99431 effective words) took 0.3s, 372726 effective words/s\n",
      "2019-12-03 01:21:29,334 : INFO : worker thread finished; awaiting finish of 7 more threads\n",
      "2019-12-03 01:21:29,365 : INFO : worker thread finished; awaiting finish of 6 more threads\n",
      "2019-12-03 01:21:29,369 : INFO : worker thread finished; awaiting finish of 5 more threads\n",
      "2019-12-03 01:21:29,373 : INFO : worker thread finished; awaiting finish of 4 more threads\n",
      "2019-12-03 01:21:29,384 : INFO : worker thread finished; awaiting finish of 3 more threads\n",
      "2019-12-03 01:21:29,396 : INFO : worker thread finished; awaiting finish of 2 more threads\n",
      "2019-12-03 01:21:29,399 : INFO : worker thread finished; awaiting finish of 1 more threads\n",
      "2019-12-03 01:21:29,406 : INFO : worker thread finished; awaiting finish of 0 more threads\n",
      "2019-12-03 01:21:29,409 : INFO : EPOCH - 24 : training on 149115 raw words (99303 effective words) took 0.3s, 362653 effective words/s\n",
      "2019-12-03 01:21:29,644 : INFO : worker thread finished; awaiting finish of 7 more threads\n",
      "2019-12-03 01:21:29,654 : INFO : worker thread finished; awaiting finish of 6 more threads\n",
      "2019-12-03 01:21:29,658 : INFO : worker thread finished; awaiting finish of 5 more threads\n",
      "2019-12-03 01:21:29,670 : INFO : worker thread finished; awaiting finish of 4 more threads\n",
      "2019-12-03 01:21:29,672 : INFO : worker thread finished; awaiting finish of 3 more threads\n",
      "2019-12-03 01:21:29,675 : INFO : worker thread finished; awaiting finish of 2 more threads\n",
      "2019-12-03 01:21:29,685 : INFO : worker thread finished; awaiting finish of 1 more threads\n",
      "2019-12-03 01:21:29,692 : INFO : worker thread finished; awaiting finish of 0 more threads\n",
      "2019-12-03 01:21:29,695 : INFO : EPOCH - 25 : training on 149115 raw words (99511 effective words) took 0.3s, 374046 effective words/s\n",
      "2019-12-03 01:21:29,939 : INFO : worker thread finished; awaiting finish of 7 more threads\n",
      "2019-12-03 01:21:29,943 : INFO : worker thread finished; awaiting finish of 6 more threads\n",
      "2019-12-03 01:21:29,946 : INFO : worker thread finished; awaiting finish of 5 more threads\n",
      "2019-12-03 01:21:29,958 : INFO : worker thread finished; awaiting finish of 4 more threads\n",
      "2019-12-03 01:21:29,961 : INFO : worker thread finished; awaiting finish of 3 more threads\n",
      "2019-12-03 01:21:29,963 : INFO : worker thread finished; awaiting finish of 2 more threads\n",
      "2019-12-03 01:21:29,969 : INFO : worker thread finished; awaiting finish of 1 more threads\n",
      "2019-12-03 01:21:29,976 : INFO : worker thread finished; awaiting finish of 0 more threads\n",
      "2019-12-03 01:21:29,979 : INFO : EPOCH - 26 : training on 149115 raw words (99311 effective words) took 0.3s, 374516 effective words/s\n",
      "2019-12-03 01:21:30,171 : INFO : worker thread finished; awaiting finish of 7 more threads\n",
      "2019-12-03 01:21:30,171 : INFO : worker thread finished; awaiting finish of 6 more threads\n",
      "2019-12-03 01:21:30,187 : INFO : worker thread finished; awaiting finish of 5 more threads\n",
      "2019-12-03 01:21:30,195 : INFO : worker thread finished; awaiting finish of 4 more threads\n",
      "2019-12-03 01:21:30,197 : INFO : worker thread finished; awaiting finish of 3 more threads\n",
      "2019-12-03 01:21:30,210 : INFO : worker thread finished; awaiting finish of 2 more threads\n",
      "2019-12-03 01:21:30,216 : INFO : worker thread finished; awaiting finish of 1 more threads\n",
      "2019-12-03 01:21:30,238 : INFO : worker thread finished; awaiting finish of 0 more threads\n",
      "2019-12-03 01:21:30,240 : INFO : EPOCH - 27 : training on 149115 raw words (99216 effective words) took 0.2s, 411757 effective words/s\n",
      "2019-12-03 01:21:30,472 : INFO : worker thread finished; awaiting finish of 7 more threads\n",
      "2019-12-03 01:21:30,472 : INFO : worker thread finished; awaiting finish of 6 more threads\n",
      "2019-12-03 01:21:30,472 : INFO : worker thread finished; awaiting finish of 5 more threads\n",
      "2019-12-03 01:21:30,493 : INFO : worker thread finished; awaiting finish of 4 more threads\n",
      "2019-12-03 01:21:30,499 : INFO : worker thread finished; awaiting finish of 3 more threads\n",
      "2019-12-03 01:21:30,508 : INFO : worker thread finished; awaiting finish of 2 more threads\n",
      "2019-12-03 01:21:30,512 : INFO : worker thread finished; awaiting finish of 1 more threads\n",
      "2019-12-03 01:21:30,521 : INFO : worker thread finished; awaiting finish of 0 more threads\n",
      "2019-12-03 01:21:30,523 : INFO : EPOCH - 28 : training on 149115 raw words (99378 effective words) took 0.3s, 369061 effective words/s\n",
      "2019-12-03 01:21:30,735 : INFO : worker thread finished; awaiting finish of 7 more threads\n",
      "2019-12-03 01:21:30,751 : INFO : worker thread finished; awaiting finish of 6 more threads\n",
      "2019-12-03 01:21:30,793 : INFO : worker thread finished; awaiting finish of 5 more threads\n",
      "2019-12-03 01:21:30,797 : INFO : worker thread finished; awaiting finish of 4 more threads\n",
      "2019-12-03 01:21:30,805 : INFO : worker thread finished; awaiting finish of 3 more threads\n"
     ]
    },
    {
     "name": "stderr",
     "output_type": "stream",
     "text": [
      "2019-12-03 01:21:30,811 : INFO : worker thread finished; awaiting finish of 2 more threads\n",
      "2019-12-03 01:21:30,818 : INFO : worker thread finished; awaiting finish of 1 more threads\n",
      "2019-12-03 01:21:30,827 : INFO : worker thread finished; awaiting finish of 0 more threads\n",
      "2019-12-03 01:21:30,830 : INFO : EPOCH - 29 : training on 149115 raw words (99348 effective words) took 0.3s, 346607 effective words/s\n",
      "2019-12-03 01:21:31,042 : INFO : worker thread finished; awaiting finish of 7 more threads\n",
      "2019-12-03 01:21:31,042 : INFO : worker thread finished; awaiting finish of 6 more threads\n",
      "2019-12-03 01:21:31,058 : INFO : worker thread finished; awaiting finish of 5 more threads\n",
      "2019-12-03 01:21:31,058 : INFO : worker thread finished; awaiting finish of 4 more threads\n",
      "2019-12-03 01:21:31,058 : INFO : worker thread finished; awaiting finish of 3 more threads\n",
      "2019-12-03 01:21:31,084 : INFO : worker thread finished; awaiting finish of 2 more threads\n",
      "2019-12-03 01:21:31,089 : INFO : worker thread finished; awaiting finish of 1 more threads\n",
      "2019-12-03 01:21:31,098 : INFO : worker thread finished; awaiting finish of 0 more threads\n",
      "2019-12-03 01:21:31,101 : INFO : EPOCH - 30 : training on 149115 raw words (99379 effective words) took 0.2s, 412038 effective words/s\n",
      "2019-12-03 01:21:31,271 : INFO : worker thread finished; awaiting finish of 7 more threads\n",
      "2019-12-03 01:21:31,307 : INFO : worker thread finished; awaiting finish of 6 more threads\n",
      "2019-12-03 01:21:31,318 : INFO : worker thread finished; awaiting finish of 5 more threads\n",
      "2019-12-03 01:21:31,337 : INFO : worker thread finished; awaiting finish of 4 more threads\n",
      "2019-12-03 01:21:31,342 : INFO : worker thread finished; awaiting finish of 3 more threads\n",
      "2019-12-03 01:21:31,358 : INFO : worker thread finished; awaiting finish of 2 more threads\n",
      "2019-12-03 01:21:31,362 : INFO : worker thread finished; awaiting finish of 1 more threads\n",
      "2019-12-03 01:21:31,382 : INFO : worker thread finished; awaiting finish of 0 more threads\n",
      "2019-12-03 01:21:31,387 : INFO : EPOCH - 31 : training on 149115 raw words (99404 effective words) took 0.3s, 387143 effective words/s\n",
      "2019-12-03 01:21:31,680 : INFO : worker thread finished; awaiting finish of 7 more threads\n",
      "2019-12-03 01:21:31,680 : INFO : worker thread finished; awaiting finish of 6 more threads\n",
      "2019-12-03 01:21:31,705 : INFO : worker thread finished; awaiting finish of 5 more threads\n",
      "2019-12-03 01:21:31,715 : INFO : worker thread finished; awaiting finish of 4 more threads\n",
      "2019-12-03 01:21:31,721 : INFO : worker thread finished; awaiting finish of 3 more threads\n",
      "2019-12-03 01:21:31,750 : INFO : worker thread finished; awaiting finish of 2 more threads\n",
      "2019-12-03 01:21:31,753 : INFO : worker thread finished; awaiting finish of 1 more threads\n",
      "2019-12-03 01:21:31,754 : INFO : worker thread finished; awaiting finish of 0 more threads\n",
      "2019-12-03 01:21:31,755 : INFO : EPOCH - 32 : training on 149115 raw words (99277 effective words) took 0.3s, 289646 effective words/s\n",
      "2019-12-03 01:21:31,757 : INFO : training on a 4771680 raw words (3177842 effective words) took 8.5s, 373968 effective words/s\n"
     ]
    },
    {
     "name": "stdout",
     "output_type": "stream",
     "text": [
      "Wall time: 8.52 s\n"
     ]
    },
    {
     "data": {
      "text/plain": [
       "(3177842, 4771680)"
      ]
     },
     "execution_count": 14,
     "metadata": {},
     "output_type": "execute_result"
    }
   ],
   "source": [
    "%%time\n",
    "w2v_model.train(documents, total_examples=len(documents), epochs=W2V_EPOCH)"
   ]
  },
  {
   "cell_type": "code",
   "execution_count": 15,
   "metadata": {},
   "outputs": [
    {
     "name": "stderr",
     "output_type": "stream",
     "text": [
      "C:\\Users\\user\\Anaconda3\\lib\\site-packages\\ipykernel_launcher.py:1: DeprecationWarning: Call to deprecated `most_similar` (Method will be removed in 4.0.0, use self.wv.most_similar() instead).\n",
      "  \"\"\"Entry point for launching an IPython kernel.\n",
      "2019-12-03 01:21:31,779 : INFO : precomputing L2-norms of word weight vectors\n"
     ]
    },
    {
     "data": {
      "text/plain": [
       "[('houston', 0.6412621140480042),\n",
       " ('idk', 0.5971338748931885),\n",
       " ('happens', 0.594658613204956),\n",
       " ('flu', 0.5935021042823792),\n",
       " ('fuck', 0.5872336626052856),\n",
       " ('car', 0.5779306888580322),\n",
       " ('wit', 0.5757883787155151),\n",
       " ('dnt', 0.5722609758377075),\n",
       " ('starting', 0.5669007301330566),\n",
       " ('boo', 0.5645122528076172)]"
      ]
     },
     "execution_count": 15,
     "metadata": {},
     "output_type": "execute_result"
    }
   ],
   "source": [
    "w2v_model.most_similar(\"shit\")\n"
   ]
  },
  {
   "cell_type": "code",
   "execution_count": 16,
   "metadata": {},
   "outputs": [
    {
     "name": "stdout",
     "output_type": "stream",
     "text": [
      "Total words 21137\n",
      "Wall time: 479 ms\n"
     ]
    }
   ],
   "source": [
    "%%time\n",
    "tokenizer = Tokenizer()\n",
    "tokenizer.fit_on_texts(data_train.Text)\n",
    "\n",
    "vocab_size = len(tokenizer.word_index) + 1\n",
    "print(\"Total words\", vocab_size)"
   ]
  },
  {
   "cell_type": "code",
   "execution_count": 17,
   "metadata": {},
   "outputs": [
    {
     "name": "stdout",
     "output_type": "stream",
     "text": [
      "Wall time: 665 ms\n"
     ]
    }
   ],
   "source": [
    "%%time\n",
    "x_train = pad_sequences(tokenizer.texts_to_sequences(data_train.Text), maxlen=SEQUENCE_LENGTH)\n",
    "x_test = pad_sequences(tokenizer.texts_to_sequences(data_test.Text), maxlen=SEQUENCE_LENGTH)"
   ]
  },
  {
   "cell_type": "code",
   "execution_count": 18,
   "metadata": {},
   "outputs": [
    {
     "data": {
      "text/plain": [
       "['NEGATIVE', 'POSITIVE']"
      ]
     },
     "execution_count": 18,
     "metadata": {},
     "output_type": "execute_result"
    }
   ],
   "source": [
    "labels = data_train.Sentiment.unique().tolist()\n",
    "labels"
   ]
  },
  {
   "cell_type": "code",
   "execution_count": 19,
   "metadata": {},
   "outputs": [
    {
     "name": "stdout",
     "output_type": "stream",
     "text": [
      "y_train (22408, 1)\n",
      "y_test (5602, 1)\n"
     ]
    }
   ],
   "source": [
    "encoder = LabelEncoder()\n",
    "encoder.fit(data_train.Sentiment.tolist())\n",
    "\n",
    "y_train = encoder.transform(data_train.Sentiment.tolist())\n",
    "y_test = encoder.transform(data_test.Sentiment.tolist())\n",
    "\n",
    "y_train = y_train.reshape(-1,1)\n",
    "y_test = y_test.reshape(-1,1)\n",
    "\n",
    "print(\"y_train\",y_train.shape)\n",
    "print(\"y_test\",y_test.shape)"
   ]
  },
  {
   "cell_type": "code",
   "execution_count": 20,
   "metadata": {},
   "outputs": [
    {
     "name": "stdout",
     "output_type": "stream",
     "text": [
      "x_train (22408, 300)\n",
      "y_train (22408, 1)\n",
      "\n",
      "x_test (5602, 300)\n",
      "y_test (5602, 1)\n"
     ]
    }
   ],
   "source": [
    "print(\"x_train\", x_train.shape)\n",
    "print(\"y_train\", y_train.shape)\n",
    "print()\n",
    "print(\"x_test\", x_test.shape)\n",
    "print(\"y_test\", y_test.shape)"
   ]
  },
  {
   "cell_type": "code",
   "execution_count": 21,
   "metadata": {},
   "outputs": [
    {
     "data": {
      "text/plain": [
       "array([[0],\n",
       "       [1],\n",
       "       [1],\n",
       "       [1],\n",
       "       [1],\n",
       "       [0],\n",
       "       [1],\n",
       "       [0],\n",
       "       [0],\n",
       "       [1]], dtype=int64)"
      ]
     },
     "execution_count": 21,
     "metadata": {},
     "output_type": "execute_result"
    }
   ],
   "source": [
    "y_train[:10]\n"
   ]
  },
  {
   "cell_type": "code",
   "execution_count": 22,
   "metadata": {},
   "outputs": [
    {
     "name": "stdout",
     "output_type": "stream",
     "text": [
      "(21137, 300)\n"
     ]
    }
   ],
   "source": [
    "embedding_matrix = np.zeros((vocab_size, W2V_SIZE))\n",
    "for word, i in tokenizer.word_index.items():\n",
    "  if word in w2v_model.wv:\n",
    "    embedding_matrix[i] = w2v_model.wv[word]\n",
    "print(embedding_matrix.shape)"
   ]
  },
  {
   "cell_type": "code",
   "execution_count": 23,
   "metadata": {},
   "outputs": [],
   "source": [
    "embedding_layer = Embedding(vocab_size, W2V_SIZE, weights=[embedding_matrix], input_length=SEQUENCE_LENGTH, trainable=False)\n"
   ]
  },
  {
   "cell_type": "code",
   "execution_count": 24,
   "metadata": {},
   "outputs": [
    {
     "name": "stdout",
     "output_type": "stream",
     "text": [
      "WARNING:tensorflow:From C:\\Users\\user\\Anaconda3\\lib\\site-packages\\tensorflow\\python\\framework\\op_def_library.py:263: colocate_with (from tensorflow.python.framework.ops) is deprecated and will be removed in a future version.\n",
      "Instructions for updating:\n",
      "Colocations handled automatically by placer.\n"
     ]
    },
    {
     "name": "stderr",
     "output_type": "stream",
     "text": [
      "2019-12-03 01:21:33,996 : WARNING : From C:\\Users\\user\\Anaconda3\\lib\\site-packages\\tensorflow\\python\\framework\\op_def_library.py:263: colocate_with (from tensorflow.python.framework.ops) is deprecated and will be removed in a future version.\n",
      "Instructions for updating:\n",
      "Colocations handled automatically by placer.\n"
     ]
    },
    {
     "name": "stdout",
     "output_type": "stream",
     "text": [
      "WARNING:tensorflow:From C:\\Users\\user\\Anaconda3\\lib\\site-packages\\keras\\backend\\tensorflow_backend.py:3445: calling dropout (from tensorflow.python.ops.nn_ops) with keep_prob is deprecated and will be removed in a future version.\n",
      "Instructions for updating:\n",
      "Please use `rate` instead of `keep_prob`. Rate should be set to `rate = 1 - keep_prob`.\n"
     ]
    },
    {
     "name": "stderr",
     "output_type": "stream",
     "text": [
      "2019-12-03 01:21:34,298 : WARNING : From C:\\Users\\user\\Anaconda3\\lib\\site-packages\\keras\\backend\\tensorflow_backend.py:3445: calling dropout (from tensorflow.python.ops.nn_ops) with keep_prob is deprecated and will be removed in a future version.\n",
      "Instructions for updating:\n",
      "Please use `rate` instead of `keep_prob`. Rate should be set to `rate = 1 - keep_prob`.\n"
     ]
    },
    {
     "name": "stdout",
     "output_type": "stream",
     "text": [
      "_________________________________________________________________\n",
      "Layer (type)                 Output Shape              Param #   \n",
      "=================================================================\n",
      "embedding_1 (Embedding)      (None, 300, 300)          6341100   \n",
      "_________________________________________________________________\n",
      "dropout_1 (Dropout)          (None, 300, 300)          0         \n",
      "_________________________________________________________________\n",
      "lstm_1 (LSTM)                (None, 100)               160400    \n",
      "_________________________________________________________________\n",
      "dense_1 (Dense)              (None, 1)                 101       \n",
      "=================================================================\n",
      "Total params: 6,501,601\n",
      "Trainable params: 160,501\n",
      "Non-trainable params: 6,341,100\n",
      "_________________________________________________________________\n"
     ]
    }
   ],
   "source": [
    "model = Sequential()\n",
    "model.add(embedding_layer)\n",
    "model.add(Dropout(0.5))\n",
    "model.add(LSTM(100, dropout=0.2, recurrent_dropout=0.2))\n",
    "model.add(Dense(1, activation='sigmoid'))\n",
    "\n",
    "model.summary()"
   ]
  },
  {
   "cell_type": "code",
   "execution_count": 25,
   "metadata": {},
   "outputs": [],
   "source": [
    "model.compile(loss='binary_crossentropy',optimizer=\"adam\", metrics=['accuracy'])"
   ]
  },
  {
   "cell_type": "code",
   "execution_count": 26,
   "metadata": {},
   "outputs": [],
   "source": [
    "callbacks = [ ReduceLROnPlateau(monitor='val_loss', patience=5, cooldown=0),EarlyStopping(monitor='val_acc', min_delta=1e-4, patience=5)]\n"
   ]
  },
  {
   "cell_type": "code",
   "execution_count": 27,
   "metadata": {},
   "outputs": [
    {
     "name": "stdout",
     "output_type": "stream",
     "text": [
      "WARNING:tensorflow:From C:\\Users\\user\\Anaconda3\\lib\\site-packages\\tensorflow\\python\\ops\\math_ops.py:3066: to_int32 (from tensorflow.python.ops.math_ops) is deprecated and will be removed in a future version.\n",
      "Instructions for updating:\n",
      "Use tf.cast instead.\n"
     ]
    },
    {
     "name": "stderr",
     "output_type": "stream",
     "text": [
      "2019-12-03 01:21:35,269 : WARNING : From C:\\Users\\user\\Anaconda3\\lib\\site-packages\\tensorflow\\python\\ops\\math_ops.py:3066: to_int32 (from tensorflow.python.ops.math_ops) is deprecated and will be removed in a future version.\n",
      "Instructions for updating:\n",
      "Use tf.cast instead.\n"
     ]
    },
    {
     "name": "stdout",
     "output_type": "stream",
     "text": [
      "Train on 20167 samples, validate on 2241 samples\n",
      "Epoch 1/11\n",
      "20167/20167 [==============================] - 295s 15ms/step - loss: 0.5962 - acc: 0.6705 - val_loss: 0.5576 - val_acc: 0.7015\n",
      "Epoch 2/11\n",
      "20167/20167 [==============================] - 291s 14ms/step - loss: 0.5687 - acc: 0.6953 - val_loss: 0.5462 - val_acc: 0.7162\n",
      "Epoch 3/11\n",
      "20167/20167 [==============================] - 282s 14ms/step - loss: 0.5585 - acc: 0.7046 - val_loss: 0.5442 - val_acc: 0.7104\n",
      "Epoch 4/11\n",
      "20167/20167 [==============================] - 267s 13ms/step - loss: 0.5493 - acc: 0.7079 - val_loss: 0.5342 - val_acc: 0.7287\n",
      "Epoch 5/11\n",
      "20167/20167 [==============================] - 267s 13ms/step - loss: 0.5507 - acc: 0.7098 - val_loss: 0.5383 - val_acc: 0.7193\n",
      "Epoch 6/11\n",
      "20167/20167 [==============================] - 278s 14ms/step - loss: 0.5385 - acc: 0.7175 - val_loss: 0.5355 - val_acc: 0.7305\n",
      "Epoch 7/11\n",
      "20167/20167 [==============================] - 278s 14ms/step - loss: 0.5304 - acc: 0.7246 - val_loss: 0.5418 - val_acc: 0.7131\n",
      "Epoch 8/11\n",
      "20167/20167 [==============================] - 294s 15ms/step - loss: 0.5246 - acc: 0.7305 - val_loss: 0.5349 - val_acc: 0.7282\n",
      "Epoch 9/11\n",
      "20167/20167 [==============================] - 294s 15ms/step - loss: 0.5184 - acc: 0.7320 - val_loss: 0.5340 - val_acc: 0.7247\n",
      "Epoch 10/11\n",
      "20167/20167 [==============================] - 286s 14ms/step - loss: 0.5132 - acc: 0.7363 - val_loss: 0.5346 - val_acc: 0.7265\n",
      "Epoch 11/11\n",
      "20167/20167 [==============================] - 287s 14ms/step - loss: 0.5088 - acc: 0.7371 - val_loss: 0.5350 - val_acc: 0.7238\n",
      "Wall time: 52min 2s\n"
     ]
    }
   ],
   "source": [
    "%%time\n",
    "history = model.fit(x_train, y_train,batch_size=BATCH_SIZE,epochs=EPOCHS, validation_split=0.1,verbose=1,callbacks=callbacks)"
   ]
  },
  {
   "cell_type": "code",
   "execution_count": 28,
   "metadata": {},
   "outputs": [
    {
     "name": "stdout",
     "output_type": "stream",
     "text": [
      "5602/5602 [==============================] - 17s 3ms/step\n",
      "\n",
      "ACCURACY: 0.7209924997835659\n",
      "LOSS: 0.5405287037961656\n",
      "Wall time: 17.2 s\n"
     ]
    }
   ],
   "source": [
    "%%time\n",
    "score = model.evaluate(x_test, y_test, batch_size=BATCH_SIZE)\n",
    "print()\n",
    "print(\"ACCURACY:\",score[1])\n",
    "print(\"LOSS:\",score[0])"
   ]
  },
  {
   "cell_type": "code",
   "execution_count": 29,
   "metadata": {},
   "outputs": [
    {
     "data": {
      "image/png": "[encoded data removed]",
      "text/plain": [
       "<Figure size 432x288 with 1 Axes>"
      ]
     },
     "metadata": {
      "needs_background": "light"
     },
     "output_type": "display_data"
    },
    {
     "data": {
      "image/png": "[encoded data removed]",
      "text/plain": [
       "<Figure size 432x288 with 1 Axes>"
      ]
     },
     "metadata": {
      "needs_background": "light"
     },
     "output_type": "display_data"
    }
   ],
   "source": [
    "acc = history.history['acc']\n",
    "val_acc = history.history['val_acc']\n",
    "loss = history.history['loss']\n",
    "val_loss = history.history['val_loss']\n",
    " \n",
    "epochs = range(len(acc))\n",
    " \n",
    "plt.plot(epochs, acc, 'b', label='Training acc')\n",
    "plt.plot(epochs, val_acc, 'r', label='Validation acc')\n",
    "plt.title('Training and validation accuracy')\n",
    "plt.legend()\n",
    " \n",
    "plt.figure()\n",
    " \n",
    "plt.plot(epochs, loss, 'b', label='Training loss')\n",
    "plt.plot(epochs, val_loss, 'r', label='Validation loss')\n",
    "plt.title('Training and validation loss')\n",
    "plt.legend()\n",
    " \n",
    "plt.show()"
   ]
  },
  {
   "cell_type": "code",
   "execution_count": 48,
   "metadata": {},
   "outputs": [],
   "source": [
    "def decode_sentiment(score):\n",
    "    return NEGATIVE if score < 0.5 else POSITIVE"
   ]
  },
  {
   "cell_type": "code",
   "execution_count": 49,
   "metadata": {},
   "outputs": [],
   "source": [
    "def predict(text):\n",
    "    start_at = time.time()\n",
    "    # Tokenize text\n",
    "    x_test = pad_sequences(tokenizer.texts_to_sequences([text]), maxlen=SEQUENCE_LENGTH)\n",
    "    # Predict\n",
    "    score = model.predict([x_test])[0]\n",
    "    # Decode sentiment\n",
    "    label = decode_sentiment(score)\n",
    "\n",
    "    return {\"label\": label, \"score\": float(score),\n",
    "       \"elapsed_time\": time.time()-start_at}"
   ]
  },
  {
   "cell_type": "code",
   "execution_count": 50,
   "metadata": {},
   "outputs": [
    {
     "data": {
      "text/plain": [
       "{'label': 'POSITIVE',\n",
       " 'score': 0.9497664570808411,\n",
       " 'elapsed_time': 0.04703187942504883}"
      ]
     },
     "execution_count": 50,
     "metadata": {},
     "output_type": "execute_result"
    }
   ],
   "source": [
    "predict(\"I love the music\")"
   ]
  },
  {
   "cell_type": "code",
   "execution_count": 51,
   "metadata": {},
   "outputs": [
    {
     "data": {
      "text/plain": [
       "{'label': 'NEGATIVE',\n",
       " 'score': 0.20520807802677155,\n",
       " 'elapsed_time': 0.041028499603271484}"
      ]
     },
     "execution_count": 51,
     "metadata": {},
     "output_type": "execute_result"
    }
   ],
   "source": [
    "predict(\"oh shit\")"
   ]
  },
  {
   "cell_type": "code",
   "execution_count": 55,
   "metadata": {
    "scrolled": true
   },
   "outputs": [],
   "source": [
    "mytweet = 'finalized_model.sav'\n",
    "pickle.dump(model, open(mytweet, 'wb'))"
   ]
  },
  {
   "cell_type": "code",
   "execution_count": null,
   "metadata": {},
   "outputs": [],
   "source": []
  }
 ],
 "metadata": {
  "kernelspec": {
   "display_name": "Python 3",
   "language": "python",
   "name": "python3"
  },
  "language_info": {
   "codemirror_mode": {
    "name": "ipython",
    "version": 3
   },
   "file_extension": ".py",
   "mimetype": "text/x-python",
   "name": "python",
   "nbconvert_exporter": "python",
   "pygments_lexer": "ipython3",
   "version": "3.7.1"
  },
  "widgets": {
   "application/vnd.jupyter.widget-state+json": {
    "state": {},
    "version_major": 2,
    "version_minor": 0
   }
  }
 },
 "nbformat": 4,
 "nbformat_minor": 2
}
